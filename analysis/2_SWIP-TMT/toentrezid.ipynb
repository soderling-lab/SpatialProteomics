{
 "cells": [
  {
   "cell_type": "code",
   "execution_count": 1,
   "metadata": {},
   "outputs": [],
   "source": [
    "acces  = [\"Q6A1A2\", \"A0A0J9YX94\", \"A0A3B3IU46\", \"A2A3N6\", \"A6NKF1\", \"A8CG34\",\n",
    "                    \"A8MPP1\", \"C4AMC7\", \"E9PAV3\", \"G9CGD6\", \"L0R819\", \"O75420\", \"P01859\",\n",
    "                    \"P0CG12\", \"P20742\", \"P49674\", \"P51784\", \"Q14CW9\", \"Q5JNZ5\", \"Q5T1J5\",\n",
    "                    \"Q5T3I0\", \"Q63ZY6\", \"Q68D20\", \"Q6ZN08\", \"Q6ZSR9\", \"Q8NI35\", \"Q96PV7\",\n",
    "                    \"Q9NQA3\", \"Q9UF83\", \"Q9UJX3\", \"Q9UPS6\", \"Q9Y4D8\", \"P00761\"]"
   ]
  },
  {
   "cell_type": "code",
   "execution_count": 3,
   "metadata": {},
   "outputs": [
    {
     "data": {
      "text/plain": [
       "{'Q6A1A2': '5170',\n",
       " 'A0A0J9YX94': '105373377',\n",
       " 'A0A3B3IU46': '353267',\n",
       " 'A2A3N6': '266971',\n",
       " 'A6NKF1': '29901',\n",
       " 'A8CG34': '9883',\n",
       " 'A8MPP1': '100302090',\n",
       " 'C4AMC7': '100287171',\n",
       " 'E9PAV3': '4666',\n",
       " 'G9CGD6': None,\n",
       " 'L0R819': '110599588',\n",
       " 'O75420': '2887',\n",
       " 'P01859': '3501',\n",
       " 'P0CG12': '113455421',\n",
       " 'P20742': '7040',\n",
       " 'P49674': '324',\n",
       " 'P51784': '5971',\n",
       " 'Q14CW9': '56970',\n",
       " 'Q5JNZ5': None,\n",
       " 'Q5T1J5': '51142',\n",
       " 'Q5T3I0': '54865',\n",
       " 'Q63ZY6': '260294',\n",
       " 'Q68D20': '441194',\n",
       " 'Q6ZN08': '7617',\n",
       " 'Q6ZSR9': None,\n",
       " 'Q8NI35': '6331',\n",
       " 'Q96PV7': '54540',\n",
       " 'Q9NQA3': '100287171',\n",
       " 'Q9UF83': '101060157',\n",
       " 'Q9UJX3': '999',\n",
       " 'Q9UPS6': '23067',\n",
       " 'Q9Y4D8': '283450',\n",
       " 'P00761': '100302368'}"
      ]
     },
     "execution_count": 3,
     "metadata": {},
     "output_type": "execute_result"
    }
   ],
   "source": [
    "from Bio import Entrez\n",
    "import time\n",
    "def get_entrez_id(uniprot_id):\n",
    "    handle = Entrez.esearch(db=\"gene\", term=uniprot_id)\n",
    "    record = Entrez.read(handle)\n",
    "    handle.close()\n",
    "    if record['IdList']:\n",
    "        return record['IdList'][0]\n",
    "    else:\n",
    "        return None\n",
    "\n",
    "map = {}\n",
    "# Example usage\n",
    "for a in acces:\n",
    "    entrez_id = get_entrez_id(a)\n",
    "    map[a] = entrez_id\n",
    "    time.sleep(1)  # Add delay between requests to avoid rate limit\n",
    "\n",
    "map"
   ]
  },
  {
   "cell_type": "code",
   "execution_count": 10,
   "metadata": {},
   "outputs": [
    {
     "name": "stdout",
     "output_type": "stream",
     "text": [
      "Q6A1A2 = 5170,\n",
      "A0A0J9YX94 = 105373377,\n",
      "A0A3B3IU46 = 353267,\n",
      "A2A3N6 = 266971,\n",
      "A6NKF1 = 29901,\n",
      "A8CG34 = 9883,\n",
      "A8MPP1 = 100302090,\n",
      "C4AMC7 = 100287171,\n",
      "E9PAV3 = 4666,\n",
      "L0R819 = 110599588,\n",
      "O75420 = 2887,\n",
      "P01859 = 3501,\n",
      "P0CG12 = 113455421,\n",
      "P20742 = 7040,\n",
      "P49674 = 324,\n",
      "P51784 = 5971,\n",
      "Q14CW9 = 56970,\n",
      "Q5T1J5 = 51142,\n",
      "Q5T3I0 = 54865,\n",
      "Q63ZY6 = 260294,\n",
      "Q68D20 = 441194,\n",
      "Q6ZN08 = 7617,\n",
      "Q8NI35 = 6331,\n",
      "Q96PV7 = 54540,\n",
      "Q9NQA3 = 100287171,\n",
      "Q9UF83 = 101060157,\n",
      "Q9UJX3 = 999,\n",
      "Q9UPS6 = 23067,\n",
      "Q9Y4D8 = 283450,\n",
      "P00761 = 100302368,\n"
     ]
    }
   ],
   "source": [
    "for key, value in map.items():\n",
    "    try:\n",
    "        if value.isdigit():\n",
    "            print(key,'=',value+\",\")\n",
    "    except AttributeError:\n",
    "        None"
   ]
  },
  {
   "cell_type": "code",
   "execution_count": null,
   "metadata": {},
   "outputs": [],
   "source": []
  }
 ],
 "metadata": {
  "kernelspec": {
   "display_name": "dataenv",
   "language": "python",
   "name": "dataenv"
  },
  "language_info": {
   "codemirror_mode": {
    "name": "ipython",
    "version": 3
   },
   "file_extension": ".py",
   "mimetype": "text/x-python",
   "name": "python",
   "nbconvert_exporter": "python",
   "pygments_lexer": "ipython3",
   "version": "3.11.4"
  }
 },
 "nbformat": 4,
 "nbformat_minor": 2
}
